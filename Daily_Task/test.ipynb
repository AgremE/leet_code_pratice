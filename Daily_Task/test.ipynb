{
 "cells": [
  {
   "cell_type": "code",
   "execution_count": 1,
   "metadata": {},
   "outputs": [],
   "source": [
    "test = [\n",
    "            37,\n",
    "            81,\n",
    "            -1,\n",
    "            80,\n",
    "            45,\n",
    "            36,\n",
    "            10,\n",
    "            57,\n",
    "            53,\n",
    "            42,\n",
    "            75,\n",
    "            52,\n",
    "            4,\n",
    "            8,\n",
    "            9,\n",
    "            49,\n",
    "            82,\n",
    "            3,\n",
    "            40,\n",
    "            79,\n",
    "            12,\n",
    "            74,\n",
    "            63,\n",
    "            19,\n",
    "            14,\n",
    "            51,\n",
    "            -1,\n",
    "            86,\n",
    "            78,\n",
    "            91,\n",
    "            6,\n",
    "            -1,\n",
    "            41,\n",
    "            82,\n",
    "            -1,\n",
    "            27,\n",
    "            -1,\n",
    "            18,\n",
    "            1,\n",
    "            57,\n",
    "            20,\n",
    "            11,\n",
    "            15,\n",
    "            92,\n",
    "            74,\n",
    "            21,\n",
    "            64,\n",
    "            68,\n",
    "            1,\n",
    "            58,\n",
    "            -1,\n",
    "            5,\n",
    "            88,\n",
    "            30,\n",
    "            82,\n",
    "            3,\n",
    "            62,\n",
    "            87,\n",
    "            38,\n",
    "            73,\n",
    "            51,\n",
    "            59,\n",
    "            24,\n",
    "            56,\n",
    "            43,\n",
    "            54,\n",
    "            72,\n",
    "            88,\n",
    "            77,\n",
    "            13,\n",
    "            -1,\n",
    "            -1,\n",
    "            61,\n",
    "            37,\n",
    "            29,\n",
    "            47,\n",
    "            54,\n",
    "            76,\n",
    "            32,\n",
    "            22,\n",
    "            84,\n",
    "            28,\n",
    "            46,\n",
    "            24,\n",
    "            66,\n",
    "            27,\n",
    "            8,\n",
    "            -1,\n",
    "            39,\n",
    "            29,\n",
    "            47,\n",
    "            27,\n",
    "            23,\n",
    "            10,\n",
    "            82,\n",
    "        ]"
   ]
  },
  {
   "cell_type": "code",
   "execution_count": 2,
   "metadata": {},
   "outputs": [
    {
     "data": {
      "text/plain": [
       "-1"
      ]
     },
     "execution_count": 2,
     "metadata": {},
     "output_type": "execute_result"
    }
   ],
   "source": [
    "test[31]"
   ]
  },
  {
   "cell_type": "code",
   "execution_count": 3,
   "metadata": {},
   "outputs": [
    {
     "data": {
      "text/plain": [
       "10"
      ]
     },
     "execution_count": 3,
     "metadata": {},
     "output_type": "execute_result"
    }
   ],
   "source": [
    "test[6]"
   ]
  },
  {
   "cell_type": "code",
   "execution_count": null,
   "metadata": {},
   "outputs": [],
   "source": []
  }
 ],
 "metadata": {
  "kernelspec": {
   "display_name": "vision",
   "language": "python",
   "name": "python3"
  },
  "language_info": {
   "codemirror_mode": {
    "name": "ipython",
    "version": 3
   },
   "file_extension": ".py",
   "mimetype": "text/x-python",
   "name": "python",
   "nbconvert_exporter": "python",
   "pygments_lexer": "ipython3",
   "version": "3.8.5 (default, Sep  3 2020, 21:29:08) [MSC v.1916 64 bit (AMD64)]"
  },
  "orig_nbformat": 4,
  "vscode": {
   "interpreter": {
    "hash": "cdd1e265fd469ae4afc7278faed9d59588d81dfe816c3d01ff5c5888c06287f1"
   }
  }
 },
 "nbformat": 4,
 "nbformat_minor": 2
}
