{
 "cells": [
  {
   "cell_type": "code",
   "execution_count": 16,
   "id": "e5aeecef-b856-4ab7-bedd-ee7f90349c07",
   "metadata": {},
   "outputs": [],
   "source": [
    "import random as rnd\n",
    "end = 10**5\n",
    "list_rnd_num = []\n",
    "list_s_rnd_num = []\n",
    "for i in range(5000000):\n",
    "    list_rnd_num.append(rnd.randint(1,end))\n",
    "for i in range(500000):\n",
    "    list_s_rnd_num.append(rnd.randint(1,end))"
   ]
  },
  {
   "cell_type": "code",
   "execution_count": 23,
   "id": "1addd423-790a-43e3-b830-dc8df4fbb4fd",
   "metadata": {},
   "outputs": [],
   "source": [
    "import numpy as np"
   ]
  },
  {
   "cell_type": "code",
   "execution_count": 21,
   "id": "438aef63-59aa-4783-afa0-f98bc9b6fb95",
   "metadata": {},
   "outputs": [
    {
     "name": "stdout",
     "output_type": "stream",
     "text": [
      "403 ms ± 22.2 ms per loop (mean ± std. dev. of 7 runs, 1 loop each)\n"
     ]
    }
   ],
   "source": [
    "%%timeit\n",
    "test = set(list_rnd_num) - set(list_s_rnd_num)"
   ]
  },
  {
   "cell_type": "code",
   "execution_count": 25,
   "id": "cf12ebae-17da-4985-9869-cc2a9c4f62ac",
   "metadata": {},
   "outputs": [
    {
     "name": "stdout",
     "output_type": "stream",
     "text": [
      "405 ms ± 24 ms per loop (mean ± std. dev. of 7 runs, 1 loop each)\n"
     ]
    }
   ],
   "source": [
    "%%timeit\n",
    "test = set(list_s_rnd_num) - set(list_rnd_num)"
   ]
  },
  {
   "cell_type": "code",
   "execution_count": 22,
   "id": "bb1469ff-afe7-4462-b51b-8e7894452b3c",
   "metadata": {},
   "outputs": [],
   "source": [
    "# Take forever\n",
    "# test = [x for x in list_rnd_num if x not in list_s_rnd_num]"
   ]
  },
  {
   "cell_type": "code",
   "execution_count": 24,
   "id": "e5ba39e6-d9ba-499d-9163-ae7b1a36760d",
   "metadata": {},
   "outputs": [
    {
     "name": "stdout",
     "output_type": "stream",
     "text": [
      "433 ms ± 35.5 ms per loop (mean ± std. dev. of 7 runs, 1 loop each)\n"
     ]
    }
   ],
   "source": [
    "%%timeit\n",
    "set(list_rnd_num).symmetric_difference(set(list_s_rnd_num))"
   ]
  },
  {
   "cell_type": "code",
   "execution_count": 27,
   "id": "78d8c4f7-a86c-42bf-aea3-4cc4150ddfe7",
   "metadata": {},
   "outputs": [
    {
     "name": "stdout",
     "output_type": "stream",
     "text": [
      "633 ms ± 6.67 ms per loop (mean ± std. dev. of 7 runs, 1 loop each)\n"
     ]
    }
   ],
   "source": [
    "%%timeit\n",
    "test = np.setdiff1d(list_rnd_num, list_s_rnd_num)"
   ]
  },
  {
   "cell_type": "code",
   "execution_count": 36,
   "id": "3b1f4d5d-e0ec-4051-81bd-5861c6a9a54a",
   "metadata": {},
   "outputs": [
    {
     "name": "stdout",
     "output_type": "stream",
     "text": [
      "105 ms ± 3.21 ms per loop (mean ± std. dev. of 7 runs, 10 loops each)\n"
     ]
    }
   ],
   "source": [
    "%%timeit \n",
    "test_list_s_rnd_num = set(list_s_rnd_num)\n",
    "diff = [x for x in list_s_rnd_num if x not in test_list_s_rnd_num]"
   ]
  },
  {
   "cell_type": "code",
   "execution_count": null,
   "id": "7243344f-8937-42aa-9694-1c05cc5a9690",
   "metadata": {},
   "outputs": [],
   "source": []
  }
 ],
 "metadata": {
  "kernelspec": {
   "display_name": "Python 3",
   "language": "python",
   "name": "python3"
  },
  "language_info": {
   "codemirror_mode": {
    "name": "ipython",
    "version": 3
   },
   "file_extension": ".py",
   "mimetype": "text/x-python",
   "name": "python",
   "nbconvert_exporter": "python",
   "pygments_lexer": "ipython3",
   "version": "3.8.5"
  }
 },
 "nbformat": 4,
 "nbformat_minor": 5
}
